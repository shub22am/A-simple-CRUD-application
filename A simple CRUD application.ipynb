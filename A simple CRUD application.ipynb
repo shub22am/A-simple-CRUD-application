{
 "cells": [
  {
   "cell_type": "markdown",
   "id": "a108f68f",
   "metadata": {},
   "source": [
    "# A simple gui application"
   ]
  },
  {
   "cell_type": "code",
   "execution_count": 1,
   "id": "d3931195",
   "metadata": {},
   "outputs": [],
   "source": [
    "# libraries\n",
    "\n",
    "from tkinter import *\n",
    "import sqlite3\n",
    "import tkinter.ttk as ttk\n",
    "import tkinter.messagebox as tkMessageBox"
   ]
  },
  {
   "cell_type": "code",
   "execution_count": 2,
   "id": "364a4264",
   "metadata": {},
   "outputs": [
    {
     "data": {
      "text/plain": [
       "''"
      ]
     },
     "execution_count": 2,
     "metadata": {},
     "output_type": "execute_result"
    }
   ],
   "source": [
    "root = Tk()\n",
    "root.title(\"A simple GUI application\")"
   ]
  },
  {
   "cell_type": "code",
   "execution_count": 3,
   "id": "5382a963",
   "metadata": {},
   "outputs": [],
   "source": [
    "# method\n",
    "\n",
    "def Database():\n",
    "    global conn, c\n",
    "    conn = sqlite3.connect(\"simple.db\")\n",
    "    c = conn.cursor()\n",
    "    c.execute(\"CREATE TABLE IF NOT EXISTS member (mem_id INTEGER PRIMARY KEY AUTOINCREMENT NOT NULL, firstname TEXT, lastname TEXT, gender TEXT, address TEXT, username TEXT, password TEXT)\")\n",
    "    \n",
    "def create():\n",
    "    if FIRSTNAME.get() == \"\" or LASTNAME.get() == \"\" or GENDER.get() == \"\" or ADDRESS.get() == \"\" or USERNAME.get() == \"\" or PASSWORD.get() == \"\":\n",
    "        txt-result.config(text=\"please enter all the fields\",fd=\"red\")\n",
    "    else:\n",
    "        Database()\n",
    "        c.execute(\"INSERT INTO member(firstname,lastname,gender,address,username,password) VALUES(?,?,?,?,?,?)\",(str(FIRSTNAME.get()),str(LASTNAME.get()),str(GENDER.get()),str(ADDRESS.get()),str(USERNAME.get()),str(PASSWORD.get())))\n",
    "        conn.commit()\n",
    "        FIRSTNAME.set(\"\")\n",
    "        LASTNAME.set(\"\")\n",
    "        GENDER.set(\"\")\n",
    "        ADDRESS.set(\"\")\n",
    "        USERNAME.set(\"\")\n",
    "        PASSWORD.set(\"\")\n",
    "        c.close()\n",
    "        conn.close()\n",
    "        txt_result.config(text=\"record Inserted !\",fg=\"green\")\n",
    "        \n",
    "def Read():\n",
    "    tree.delete(*tree.get_children)\n",
    "    Database()\n",
    "    c.execute(\"SELECT FROM member ORDER BY lastname ASC\")\n",
    "    fetch = c.fetchall()\n",
    "    for data in fetch:\n",
    "        tree.insert('','end',values=(data[1],data[2],data[3],data[4],data[5],data[6]))\n",
    "        c.close()\n",
    "        txt_result.config(text=\"successfully fetched data !\",fg=\"black\")\n",
    "        \n",
    "def Exit():\n",
    "    result = tkMessageBox.askquestion(\"Do you want to exit? (y/n)\", icon=\"warning\")\n",
    "    if result == \"yes\":\n",
    "        root.destroy()\n",
    "        exit()"
   ]
  },
  {
   "cell_type": "code",
   "execution_count": 4,
   "id": "0057cc68",
   "metadata": {},
   "outputs": [],
   "source": [
    "# variable declaration\n",
    "\n",
    "FIRSTNAME = StringVar()\n",
    "LASTNAME = StringVar()\n",
    "GENDER = StringVar()\n",
    "ADDRESS = StringVar()\n",
    "USERNAME = StringVar()\n",
    "PASSWORD = StringVar()"
   ]
  },
  {
   "cell_type": "code",
   "execution_count": 5,
   "id": "c0d85949",
   "metadata": {},
   "outputs": [],
   "source": [
    "# frame\n",
    "\n",
    "top = Frame(root, width=900, height=50, bd=8, relief=\"raise\")\n",
    "top.pack(side=TOP)\n",
    "left = Frame(root, width=300, height=500, bd=8, relief=\"raise\")\n",
    "left.pack(side=LEFT)\n",
    "right = Frame(root, width=600, height=500, bd=8, relief=\"raise\")\n",
    "right.pack(side=RIGHT)\n",
    "\n",
    "Forms = Frame(left, width=300, height=450)\n",
    "Forms.pack(side=TOP)\n",
    "\n",
    "Buttons = Frame(left, width=300, height=100, bd=8, relief=\"raise\")\n",
    "Buttons.pack(side=BOTTOM)\n",
    "\n",
    "RadioGroup = Frame(Forms)\n",
    "Male = Radiobutton(RadioGroup,text=\"Male\",variable=GENDER,value=\"Male\").pack(side=LEFT)\n",
    "Female = Radiobutton(RadioGroup,text=\"Female\",variable=GENDER,value=\"Female\").pack(side=LEFT)"
   ]
  },
  {
   "cell_type": "code",
   "execution_count": 6,
   "id": "e32acc88",
   "metadata": {},
   "outputs": [],
   "source": [
    "# ===============================Label widgets=======================================\n",
    "\n",
    "txt_title = Label(top, width=900, font=('arial',24), text=\"Python: simple CRUD application\")\n",
    "txt_title.pack()\n",
    "txt_firstname = Label(Forms, text=\"Firstname:\", font=('arial',16), bd=15)\n",
    "txt_firstname.grid(row=0,stick=\"e\")\n",
    "txt_lastname = Label(Forms, text=\"Lastname:\", font=('arial',16), bd=15)\n",
    "txt_lastname.grid(row=1,stick=\"e\")\n",
    "txt_gender = Label(Forms, text=\"Gender:\", font=('arial',16), bd=15)\n",
    "txt_gender.grid(row=2,stick=\"e\")\n",
    "txt_address = Label(Forms, text=\"Address:\", font=('arial',16), bd=15)\n",
    "txt_address.grid(row=3,stick=\"e\")\n",
    "txt_username = Label(Forms, text=\"Username:\", font=('arial',16), bd=15)\n",
    "txt_username.grid(row=4,stick=\"e\")\n",
    "txt_password = Label(Forms, text=\"Password:\", font=('arial',16), bd=15)\n",
    "txt_password.grid(row=5,stick=\"e\")\n",
    "txt_result = Label(Buttons)\n",
    "txt_result.pack(side=TOP)"
   ]
  },
  {
   "cell_type": "code",
   "execution_count": 7,
   "id": "ecb8c171",
   "metadata": {},
   "outputs": [],
   "source": [
    "# ====================================Entry widget=====================================\n",
    "\n",
    "firstname = Entry(Forms, textvariable=FIRSTNAME, width=30)\n",
    "firstname.grid(row=0,column=1)\n",
    "lastname = Entry(Forms, textvariable=LASTNAME, width=30)\n",
    "lastname.grid(row=1,column=1)\n",
    "RadioGroup.grid(row=2,column=1)\n",
    "address = Entry(Forms, textvariable=ADDRESS, width=30)\n",
    "address.grid(row=3,column=1)\n",
    "username = Entry(Forms, textvariable=USERNAME, width=30)\n",
    "username.grid(row=4,column=1)\n",
    "password = Entry(Forms, textvariable=PASSWORD, show=\"*\", width=30)\n",
    "password.grid(row=5,column=1)"
   ]
  },
  {
   "cell_type": "code",
   "execution_count": 8,
   "id": "53ca5a2e",
   "metadata": {},
   "outputs": [],
   "source": [
    "# ====================================Button widgets====================================\n",
    "\n",
    "btn_create = Button(Buttons, width=10, text=\"Create\", command=create)\n",
    "btn_create.pack(side=LEFT)\n",
    "btn_read = Button(Buttons, width=10, text=\"Read\", command=Read)\n",
    "btn_read.pack(side=LEFT)\n",
    "btn_update = Button(Buttons, width=10, text=\"Update\", state=DISABLED)\n",
    "btn_update.pack(side=LEFT)\n",
    "btn_delete = Button(Buttons, width=10, text=\"Delete\", state=DISABLED)\n",
    "btn_delete.pack(side=LEFT)\n",
    "btn_exit = Button(Buttons, width=10, text=\"Exit\", command=Exit)\n",
    "btn_exit.pack(side=LEFT)"
   ]
  },
  {
   "cell_type": "code",
   "execution_count": 9,
   "id": "998f678d",
   "metadata": {},
   "outputs": [
    {
     "name": "stderr",
     "output_type": "stream",
     "text": [
      "Exception in Tkinter callback\n",
      "Traceback (most recent call last):\n",
      "  File \"C:\\Users\\Joshi\\anaconda3\\lib\\tkinter\\__init__.py\", line 1892, in __call__\n",
      "    return self.func(*args)\n",
      "  File \"C:\\Users\\Joshi\\AppData\\Local\\Temp\\ipykernel_7216\\12284585.py\", line 14, in create\n",
      "    c.execute(\"INSERT INTO member(firstname,lastname,gender,Address,username,password) VALUES(?,?,?,?,?,?)\",(str(FIRSTNAME.get()),str(LASTNAME.get()),str(GENDER.get()),str(ADDRESS.get()),str(USERNAME.get()),str(PASSWORD.get())))\n",
      "sqlite3.OperationalError: table member has no column named Address\n"
     ]
    }
   ],
   "source": [
    "# ==================================List widget==========================================\n",
    "\n",
    "scrollbar_y = Scrollbar(right, orient=VERTICAL)\n",
    "scrollbar_x = Scrollbar(right, orient=HORIZONTAL)\n",
    "\n",
    "tree = ttk.Treeview(right, columns=(\"Firstname\",\"Lastname\",\"Gender\",\"Address\",\"Username\",\"Password\"))\n",
    "\n",
    "scrollbar_y.config(command=tree.yview)\n",
    "scrollbar_y.pack(side=RIGHT, fill=Y)\n",
    "\n",
    "scrollbar_x.config(command=tree.xview)\n",
    "scrollbar_x.pack(side=BOTTOM, fill=X)\n",
    "\n",
    "tree.heading(\"Firstname\", text=\"Firstname\", anchor=W)\n",
    "tree.heading(\"Lastname\", text=\"Lastname\", anchor=W)\n",
    "tree.heading(\"Gender\", text=\"Gender\", anchor=W)\n",
    "tree.heading(\"Address\", text=\"Address\", anchor=W)\n",
    "tree.heading(\"Username\", text=\"Username\", anchor=W)\n",
    "tree.heading(\"Password\", text=\"Password\", anchor=W)\n",
    "\n",
    "tree.column(\"#0\", stretch=NO, minwidth=0, width=0)\n",
    "tree.column(\"#1\", stretch=NO, minwidth=0, width=80)\n",
    "tree.column(\"#2\", stretch=NO, minwidth=0, width=120)\n",
    "tree.column(\"#3\", stretch=NO, minwidth=0, width=80)\n",
    "tree.column(\"#4\", stretch=NO, minwidth=0, width=150)\n",
    "tree.column(\"#5\", stretch=NO, minwidth=0, width=120)\n",
    "tree.column(\"#6\", stretch=NO, minwidth=0, width=120)\n",
    "tree.pack()\n",
    "\n",
    "# initialize\n",
    "\n",
    "if __name__ == \"__main__\":\n",
    "    root.mainloop()"
   ]
  },
  {
   "cell_type": "code",
   "execution_count": null,
   "id": "1c5dfe53",
   "metadata": {},
   "outputs": [],
   "source": []
  }
 ],
 "metadata": {
  "kernelspec": {
   "display_name": "Python 3 (ipykernel)",
   "language": "python",
   "name": "python3"
  },
  "language_info": {
   "codemirror_mode": {
    "name": "ipython",
    "version": 3
   },
   "file_extension": ".py",
   "mimetype": "text/x-python",
   "name": "python",
   "nbconvert_exporter": "python",
   "pygments_lexer": "ipython3",
   "version": "3.9.12"
  }
 },
 "nbformat": 4,
 "nbformat_minor": 5
}
